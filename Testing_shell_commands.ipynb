{
 "metadata": {
  "name": "Testing_shell_commands"
 },
 "nbformat": 3,
 "nbformat_minor": 0,
 "worksheets": [
  {
   "cells": [
    {
     "cell_type": "code",
     "collapsed": false,
     "input": [
      "import os"
     ],
     "language": "python",
     "metadata": {},
     "outputs": [],
     "prompt_number": 6
    },
    {
     "cell_type": "code",
     "collapsed": false,
     "input": [
      "pwd"
     ],
     "language": "python",
     "metadata": {},
     "outputs": [
      {
       "output_type": "pyout",
       "prompt_number": 7,
       "text": [
        "u'C:\\\\Phil\\\\My Dropbox\\\\Python\\\\Sailing'"
       ]
      }
     ],
     "prompt_number": 7
    },
    {
     "cell_type": "code",
     "collapsed": false,
     "input": [
      "%timeit [x*x for x in range(100000)]"
     ],
     "language": "python",
     "metadata": {},
     "outputs": [
      {
       "output_type": "stream",
       "stream": "stdout",
       "text": [
        "100 loops, best of 3: 13.2 ms per loop\n"
       ]
      }
     ],
     "prompt_number": 8
    },
    {
     "cell_type": "code",
     "collapsed": false,
     "input": [
      "datapath = u'C:\\Phil\\My Dropbox\\Python\\Sailing\\'\n"
     ],
     "language": "python",
     "metadata": {},
     "outputs": [
      {
       "ename": "SyntaxError",
       "evalue": "EOL while scanning string literal (<ipython-input-9-a3d26756b4af>, line 1)",
       "output_type": "pyerr",
       "traceback": [
        "\u001b[1;36m  File \u001b[1;32m\"<ipython-input-9-a3d26756b4af>\"\u001b[1;36m, line \u001b[1;32m1\u001b[0m\n\u001b[1;33m    datapath = u'C:\\Phil\\My Dropbox\\Python\\Sailing\\'\u001b[0m\n\u001b[1;37m                                                   ^\u001b[0m\n\u001b[1;31mSyntaxError\u001b[0m\u001b[1;31m:\u001b[0m EOL while scanning string literal\n"
       ]
      }
     ],
     "prompt_number": 9
    },
    {
     "cell_type": "code",
     "collapsed": false,
     "input": [
      "datapath"
     ],
     "language": "python",
     "metadata": {},
     "outputs": [
      {
       "output_type": "pyout",
       "prompt_number": 22,
       "text": [
        "u'C:\\\\Phil\\\\My Dropbox\\\\Python\\\\Sailing\\\\'"
       ]
      }
     ],
     "prompt_number": 22
    },
    {
     "cell_type": "code",
     "collapsed": false,
     "input": [
      "ls"
     ],
     "language": "python",
     "metadata": {},
     "outputs": [
      {
       "output_type": "stream",
       "stream": "stdout",
       "text": [
        " Volume in drive C is OS\n",
        " Volume Serial Number is E842-B398\n",
        "\n",
        " Directory of C:\\Phil\\My Dropbox\\Python\\Sailing\n",
        "\n",
        "13/01/2014  09:35 a.m.    <DIR>          .\n",
        "13/01/2014  09:35 a.m.    <DIR>          ..\n",
        "09/01/2014  03:56 p.m.           383,119 After Midnight.png\n",
        "08/01/2014  03:06 p.m.           499,987 Airship.png\n",
        "10/12/2013  07:51 a.m.            42,694 AllTCFs (alternative).csv\n",
        "07/01/2014  04:06 p.m.            45,902 AllTCFs.csv\n",
        "06/12/2013  08:22 a.m.            54,658 Analysis of TCFs - before data input file changed to make it like the Dec 2014 dump of results.xlsx\n",
        "06/08/2013  10:40 a.m.            12,395 Courses.ipynb\n",
        "06/01/2014  07:38 a.m.    <DIR>          Data\n",
        "06/12/2013  07:50 a.m.             9,240 functions.py\n",
        "06/12/2013  07:51 a.m.             5,377 functions.pyc\n",
        "09/01/2014  03:54 p.m.           352,646 Gucci.png\n",
        "04/10/2013  03:27 p.m.                33 ipy.bat\n",
        "19/12/2013  08:16 a.m.            15,159 Offshore results.xlsx\n",
        "06/12/2013  08:01 a.m.    <DIR>          Old stuff\n",
        "13/01/2014  09:45 a.m.            34,944 plotTCFs.ipynb\n",
        "27/12/2013  09:20 a.m.             9,377 processRawRaceData.ipynb\n",
        "07/11/2013  09:37 p.m.            48,510 read and merge.ipynb\n",
        "03/12/2013  01:43 p.m.               232 README.md\n",
        "09/01/2014  03:52 p.m.           233,379 Rocket Science.png\n",
        "07/01/2014  04:13 p.m.            42,421 TCFanalysis.ipynb\n",
        "23/11/2013  09:03 a.m.           244,202 testAnalysis2.ipynb\n",
        "08/01/2014  03:35 p.m.           413,145 The Guarantee.png\n",
        "13/01/2014  09:35 a.m.               107 Untitled0.ipynb\n",
        "              20 File(s)      2,447,527 bytes\n",
        "               4 Dir(s)  474,107,801,600 bytes free\n"
       ]
      }
     ],
     "prompt_number": 2
    },
    {
     "cell_type": "code",
     "collapsed": false,
     "input": [
      "ls"
     ],
     "language": "python",
     "metadata": {},
     "outputs": [
      {
       "output_type": "stream",
       "stream": "stdout",
       "text": [
        " Volume in drive C is OS\n",
        " Volume Serial Number is E842-B398\n",
        "\n",
        " Directory of C:\\Phil\\My Dropbox\\Python\\Sailing\n",
        "\n",
        "13/01/2014  09:35 a.m.    <DIR>          .\n",
        "13/01/2014  09:35 a.m.    <DIR>          ..\n",
        "09/01/2014  03:56 p.m.           383,119 After Midnight.png\n",
        "08/01/2014  03:06 p.m.           499,987 Airship.png\n",
        "10/12/2013  07:51 a.m.            42,694 AllTCFs (alternative).csv\n",
        "07/01/2014  04:06 p.m.            45,902 AllTCFs.csv\n",
        "06/12/2013  08:22 a.m.            54,658 Analysis of TCFs - before data input file changed to make it like the Dec 2014 dump of results.xlsx\n",
        "06/08/2013  10:40 a.m.            12,395 Courses.ipynb\n",
        "06/01/2014  07:38 a.m.    <DIR>          Data\n",
        "06/12/2013  07:50 a.m.             9,240 functions.py\n",
        "06/12/2013  07:51 a.m.             5,377 functions.pyc\n",
        "09/01/2014  03:54 p.m.           352,646 Gucci.png\n",
        "04/10/2013  03:27 p.m.                33 ipy.bat\n",
        "19/12/2013  08:16 a.m.            15,159 Offshore results.xlsx\n",
        "06/12/2013  08:01 a.m.    <DIR>          Old stuff\n",
        "13/01/2014  09:45 a.m.            34,944 plotTCFs.ipynb\n",
        "27/12/2013  09:20 a.m.             9,377 processRawRaceData.ipynb\n",
        "07/11/2013  09:37 p.m.            48,510 read and merge.ipynb\n",
        "03/12/2013  01:43 p.m.               232 README.md\n",
        "09/01/2014  03:52 p.m.           233,379 Rocket Science.png\n",
        "07/01/2014  04:13 p.m.            42,421 TCFanalysis.ipynb\n",
        "23/11/2013  09:03 a.m.           244,202 testAnalysis2.ipynb\n",
        "08/01/2014  03:35 p.m.           413,145 The Guarantee.png\n",
        "13/01/2014  09:35 a.m.               107 Untitled0.ipynb\n",
        "              20 File(s)      2,447,527 bytes\n",
        "               4 Dir(s)  474,107,801,600 bytes free\n"
       ]
      }
     ],
     "prompt_number": 3
    },
    {
     "cell_type": "code",
     "collapsed": false,
     "input": [
      "a = ls"
     ],
     "language": "python",
     "metadata": {},
     "outputs": [
      {
       "ename": "NameError",
       "evalue": "name 'ls' is not defined",
       "output_type": "pyerr",
       "traceback": [
        "\u001b[1;31m---------------------------------------------------------------------------\u001b[0m\n\u001b[1;31mNameError\u001b[0m                                 Traceback (most recent call last)",
        "\u001b[1;32m<ipython-input-2-a3affdd43b29>\u001b[0m in \u001b[0;36m<module>\u001b[1;34m()\u001b[0m\n\u001b[1;32m----> 1\u001b[1;33m \u001b[0ma\u001b[0m \u001b[1;33m=\u001b[0m \u001b[0mls\u001b[0m\u001b[1;33m\u001b[0m\u001b[0m\n\u001b[0m",
        "\u001b[1;31mNameError\u001b[0m: name 'ls' is not defined"
       ]
      }
     ],
     "prompt_number": 2
    },
    {
     "cell_type": "code",
     "collapsed": false,
     "input": [
      "import commands\n",
      "cmd = \"ls\"\n",
      "output = commands.getoutput(cmd)\n",
      "print output\n",
      "\n"
     ],
     "language": "python",
     "metadata": {},
     "outputs": [
      {
       "output_type": "stream",
       "stream": "stdout",
       "text": [
        "'{' is not recognized as an internal or external command,\n",
        "operable program or batch file.\n"
       ]
      }
     ],
     "prompt_number": 4
    },
    {
     "cell_type": "code",
     "collapsed": false,
     "input": [
      "output"
     ],
     "language": "python",
     "metadata": {},
     "outputs": [
      {
       "output_type": "pyout",
       "prompt_number": 5,
       "text": [
        "\"'{' is not recognized as an internal or external command,\\noperable program or batch file.\""
       ]
      }
     ],
     "prompt_number": 5
    },
    {
     "cell_type": "code",
     "collapsed": false,
     "input": [
      "ls"
     ],
     "language": "python",
     "metadata": {},
     "outputs": [
      {
       "output_type": "stream",
       "stream": "stdout",
       "text": [
        " Volume in drive C is OS\n",
        " Volume Serial Number is E842-B398\n",
        "\n",
        " Directory of C:\\Phil\\My Dropbox\\Python\\Sailing\n",
        "\n",
        "13/01/2014  09:35 a.m.    <DIR>          .\n",
        "13/01/2014  09:35 a.m.    <DIR>          ..\n",
        "09/01/2014  03:56 p.m.           383,119 After Midnight.png\n",
        "08/01/2014  03:06 p.m.           499,987 Airship.png\n",
        "10/12/2013  07:51 a.m.            42,694 AllTCFs (alternative).csv\n",
        "07/01/2014  04:06 p.m.            45,902 AllTCFs.csv\n",
        "06/12/2013  08:22 a.m.            54,658 Analysis of TCFs - before data input file changed to make it like the Dec 2014 dump of results.xlsx\n",
        "06/08/2013  10:40 a.m.            12,395 Courses.ipynb\n",
        "06/01/2014  07:38 a.m.    <DIR>          Data\n",
        "06/12/2013  07:50 a.m.             9,240 functions.py\n",
        "06/12/2013  07:51 a.m.             5,377 functions.pyc\n",
        "09/01/2014  03:54 p.m.           352,646 Gucci.png\n",
        "04/10/2013  03:27 p.m.                33 ipy.bat\n",
        "19/12/2013  08:16 a.m.            15,159 Offshore results.xlsx\n",
        "06/12/2013  08:01 a.m.    <DIR>          Old stuff\n",
        "13/01/2014  09:45 a.m.            34,944 plotTCFs.ipynb\n",
        "27/12/2013  09:20 a.m.             9,377 processRawRaceData.ipynb\n",
        "07/11/2013  09:37 p.m.            48,510 read and merge.ipynb\n",
        "03/12/2013  01:43 p.m.               232 README.md\n",
        "09/01/2014  03:52 p.m.           233,379 Rocket Science.png\n",
        "07/01/2014  04:13 p.m.            42,421 TCFanalysis.ipynb\n",
        "23/11/2013  09:03 a.m.           244,202 testAnalysis2.ipynb\n",
        "08/01/2014  03:35 p.m.           413,145 The Guarantee.png\n",
        "13/01/2014  09:35 a.m.               107 Untitled0.ipynb\n",
        "              20 File(s)      2,447,527 bytes\n",
        "               4 Dir(s)  475,065,700,352 bytes free\n"
       ]
      }
     ],
     "prompt_number": 32
    },
    {
     "cell_type": "code",
     "collapsed": false,
     "input": [
      "out='ls -l'\n",
      "print $out"
     ],
     "language": "python",
     "metadata": {},
     "outputs": [
      {
       "ename": "SyntaxError",
       "evalue": "invalid syntax (<ipython-input-21-8b6d056eb7a1>, line 2)",
       "output_type": "pyerr",
       "traceback": [
        "\u001b[1;36m  File \u001b[1;32m\"<ipython-input-21-8b6d056eb7a1>\"\u001b[1;36m, line \u001b[1;32m2\u001b[0m\n\u001b[1;33m    print $out\u001b[0m\n\u001b[1;37m          ^\u001b[0m\n\u001b[1;31mSyntaxError\u001b[0m\u001b[1;31m:\u001b[0m invalid syntax\n"
       ]
      }
     ],
     "prompt_number": 21
    },
    {
     "cell_type": "code",
     "collapsed": false,
     "input": [
      "import subprocess\n",
      "sp = subprocess.Popen(['ls', '-l'], stdout=subprocess.PIPE)\n",
      "output, _ = sp.communicate()\n",
      "print \"Status:\", sp.wait()\n",
      "print \"Output:\"\n",
      "print output\n"
     ],
     "language": "python",
     "metadata": {},
     "outputs": [
      {
       "output_type": "stream",
       "stream": "stdout",
       "text": [
        "Status: 0\n",
        "Output:\n",
        "total 1206\n",
        "-rw-r--r--    1 bishopp  Administ   383119 Jan  9 15:56 After Midnight.png\n",
        "-rw-r--r--    1 bishopp  Administ   499987 Jan  8 15:06 Airship.png\n",
        "-rw-r--r--    1 bishopp  Administ    42694 Dec 10 07:51 AllTCFs (alternative).csv\n",
        "-rw-r--r--    1 bishopp  Administ    45902 Jan  7 16:06 AllTCFs.csv\n",
        "-rw-r--r--    1 bishopp  Administ    54658 Dec  6 08:22 Analysis of TCFs - before data input file changed to make it like the Dec 2014 dump of results.xlsx\n",
        "-rw-r--r--    1 bishopp  Administ    12395 Aug  6 09:40 Courses.ipynb\n",
        "drwxr-xr-x    1 bishopp  Administ     4096 Jan  6 07:38 Data\n",
        "-rw-r--r--    1 bishopp  Administ   352646 Jan  9 15:54 Gucci.png\n",
        "-rw-r--r--    1 bishopp  Administ    15159 Dec 19 08:16 Offshore results.xlsx\n",
        "drwxr-xr-x    1 bishopp  Administ     4096 Dec  6 08:01 Old stuff\n",
        "-rw-r--r--    1 bishopp  Administ      232 Dec  3 13:43 README.md\n",
        "-rw-r--r--    1 bishopp  Administ   233379 Jan  9 15:52 Rocket Science.png\n",
        "-rw-r--r--    1 bishopp  Administ    42421 Jan  7 16:13 TCFanalysis.ipynb\n",
        "-rw-r--r--    1 bishopp  Administ   413145 Jan  8 15:35 The Guarantee.png\n",
        "-rw-r--r--    1 bishopp  Administ      107 Jan 13 09:35 Untitled0.ipynb\n",
        "-rw-r--r--    1 bishopp  Administ     9240 Dec  6 07:50 functions.py\n",
        "-rw-r--r--    1 bishopp  Administ     5377 Dec  6 07:51 functions.pyc\n",
        "-rwxr-xr-x    1 bishopp  Administ       33 Oct  4 15:27 ipy.bat\n",
        "-rw-r--r--    1 bishopp  Administ    34944 Jan 13 09:45 plotTCFs.ipynb\n",
        "-rw-r--r--    1 bishopp  Administ     9377 Dec 27 09:20 processRawRaceData.ipynb\n",
        "-rw-r--r--    1 bishopp  Administ    48510 Nov  7 21:37 read and merge.ipynb\n",
        "-rw-r--r--    1 bishopp  Administ   244202 Nov 23 09:03 testAnalysis2.ipynb\n",
        "\n"
       ]
      }
     ],
     "prompt_number": 34
    },
    {
     "cell_type": "code",
     "collapsed": false,
     "input": [
      "import os\n",
      "import pandas as pd\n",
      "\n",
      "datapath = 'C:\\\\Phil\\\\My Dropbox\\\\Python\\\\Sailing\\\\'\n",
      "\n",
      "#list the files\n",
      "filelist = os.listdir(datapath) \n",
      "\n",
      "#read them into pandas\n",
      "#df_list = [pd.read_table(file) for file in filelist]\n",
      "\n",
      "#concatenate them together\n",
      "#big_df = pd.concat(df_list)\n"
     ],
     "language": "python",
     "metadata": {},
     "outputs": [],
     "prompt_number": 33
    },
    {
     "cell_type": "code",
     "collapsed": false,
     "input": [
      "filelist"
     ],
     "language": "python",
     "metadata": {},
     "outputs": [
      {
       "output_type": "pyout",
       "prompt_number": 38,
       "text": [
        "['.git',\n",
        " 'After Midnight.png',\n",
        " 'Airship.png',\n",
        " 'AllTCFs (alternative).csv',\n",
        " 'AllTCFs.csv',\n",
        " 'Analysis of TCFs - before data input file changed to make it like the Dec 2014 dump of results.xlsx',\n",
        " 'Courses.ipynb',\n",
        " 'Data',\n",
        " 'functions.py',\n",
        " 'functions.pyc',\n",
        " 'Gucci.png',\n",
        " 'ipy.bat',\n",
        " 'Offshore results.xlsx',\n",
        " 'Old stuff',\n",
        " 'plotTCFs.ipynb',\n",
        " 'processRawRaceData.ipynb',\n",
        " 'read and merge.ipynb',\n",
        " 'README.md',\n",
        " 'Rocket Science.png',\n",
        " 'TCFanalysis.ipynb',\n",
        " 'testAnalysis2.ipynb',\n",
        " 'The Guarantee.png',\n",
        " 'Untitled0.ipynb',\n",
        " 'xxx.txt']"
       ]
      }
     ],
     "prompt_number": 38
    },
    {
     "cell_type": "code",
     "collapsed": false,
     "input": [
      "ls"
     ],
     "language": "python",
     "metadata": {},
     "outputs": [
      {
       "output_type": "stream",
       "stream": "stdout",
       "text": [
        " Volume in drive C is OS\n",
        " Volume Serial Number is E842-B398\n",
        "\n",
        " Directory of C:\\Phil\\My Dropbox\\Python\\Sailing\n",
        "\n",
        "13/01/2014  09:35 a.m.    <DIR>          .\n",
        "13/01/2014  09:35 a.m.    <DIR>          ..\n",
        "09/01/2014  03:56 p.m.           383,119 After Midnight.png\n",
        "08/01/2014  03:06 p.m.           499,987 Airship.png\n",
        "10/12/2013  07:51 a.m.            42,694 AllTCFs (alternative).csv\n",
        "07/01/2014  04:06 p.m.            45,902 AllTCFs.csv\n",
        "06/12/2013  08:22 a.m.            54,658 Analysis of TCFs - before data input file changed to make it like the Dec 2014 dump of results.xlsx\n",
        "06/08/2013  10:40 a.m.            12,395 Courses.ipynb\n",
        "06/01/2014  07:38 a.m.    <DIR>          Data\n",
        "06/12/2013  07:50 a.m.             9,240 functions.py\n",
        "06/12/2013  07:51 a.m.             5,377 functions.pyc\n",
        "09/01/2014  03:54 p.m.           352,646 Gucci.png\n",
        "04/10/2013  03:27 p.m.                33 ipy.bat\n",
        "19/12/2013  08:16 a.m.            15,159 Offshore results.xlsx\n",
        "06/12/2013  08:01 a.m.    <DIR>          Old stuff\n",
        "13/01/2014  09:45 a.m.            34,944 plotTCFs.ipynb\n",
        "27/12/2013  09:20 a.m.             9,377 processRawRaceData.ipynb\n",
        "07/11/2013  09:37 p.m.            48,510 read and merge.ipynb\n",
        "03/12/2013  01:43 p.m.               232 README.md\n",
        "09/01/2014  03:52 p.m.           233,379 Rocket Science.png\n",
        "07/01/2014  04:13 p.m.            42,421 TCFanalysis.ipynb\n",
        "23/11/2013  09:03 a.m.           244,202 testAnalysis2.ipynb\n",
        "08/01/2014  03:35 p.m.           413,145 The Guarantee.png\n",
        "13/01/2014  09:35 a.m.               107 Untitled0.ipynb\n",
        "              20 File(s)      2,447,527 bytes\n",
        "               4 Dir(s)  474,346,921,984 bytes free\n"
       ]
      }
     ],
     "prompt_number": 48
    },
    {
     "cell_type": "code",
     "collapsed": false,
     "input": [
      "!ls"
     ],
     "language": "python",
     "metadata": {},
     "outputs": [
      {
       "output_type": "stream",
       "stream": "stdout",
       "text": [
        "After Midnight.png\n",
        "Airship.png\n",
        "AllTCFs (alternative).csv\n",
        "AllTCFs.csv\n",
        "Analysis of TCFs - before data input file changed to make it like the Dec 2014 dump of results.xlsx\n",
        "Courses.ipynb\n",
        "Data\n",
        "Gucci.png\n",
        "Offshore results.xlsx\n",
        "Old stuff\n",
        "README.md\n",
        "Rocket Science.png\n",
        "TCFanalysis.ipynb\n",
        "The Guarantee.png\n",
        "Untitled0.ipynb\n",
        "functions.py\n",
        "functions.pyc\n",
        "ipy.bat\n",
        "plotTCFs.ipynb\n",
        "processRawRaceData.ipynb\n",
        "read and merge.ipynb\n",
        "testAnalysis2.ipynb\n"
       ]
      }
     ],
     "prompt_number": 10
    },
    {
     "cell_type": "code",
     "collapsed": false,
     "input": [
      "ls"
     ],
     "language": "python",
     "metadata": {},
     "outputs": [
      {
       "output_type": "stream",
       "stream": "stdout",
       "text": [
        " Volume in drive C is OS\n",
        " Volume Serial Number is E842-B398\n",
        "\n",
        " Directory of C:\\Phil\\My Dropbox\\Python\\Sailing\n",
        "\n",
        "13/01/2014  09:35 a.m.    <DIR>          .\n",
        "13/01/2014  09:35 a.m.    <DIR>          ..\n",
        "09/01/2014  03:56 p.m.           383,119 After Midnight.png\n",
        "08/01/2014  03:06 p.m.           499,987 Airship.png\n",
        "10/12/2013  07:51 a.m.            42,694 AllTCFs (alternative).csv\n",
        "07/01/2014  04:06 p.m.            45,902 AllTCFs.csv\n",
        "06/12/2013  08:22 a.m.            54,658 Analysis of TCFs - before data input file changed to make it like the Dec 2014 dump of results.xlsx\n",
        "06/08/2013  10:40 a.m.            12,395 Courses.ipynb\n",
        "06/01/2014  07:38 a.m.    <DIR>          Data\n",
        "06/12/2013  07:50 a.m.             9,240 functions.py\n",
        "06/12/2013  07:51 a.m.             5,377 functions.pyc\n",
        "09/01/2014  03:54 p.m.           352,646 Gucci.png\n",
        "04/10/2013  03:27 p.m.                33 ipy.bat\n",
        "19/12/2013  08:16 a.m.            15,159 Offshore results.xlsx\n",
        "06/12/2013  08:01 a.m.    <DIR>          Old stuff\n",
        "13/01/2014  09:45 a.m.            34,944 plotTCFs.ipynb\n",
        "27/12/2013  09:20 a.m.             9,377 processRawRaceData.ipynb\n",
        "07/11/2013  09:37 p.m.            48,510 read and merge.ipynb\n",
        "03/12/2013  01:43 p.m.               232 README.md\n",
        "09/01/2014  03:52 p.m.           233,379 Rocket Science.png\n",
        "07/01/2014  04:13 p.m.            42,421 TCFanalysis.ipynb\n",
        "23/11/2013  09:03 a.m.           244,202 testAnalysis2.ipynb\n",
        "08/01/2014  03:35 p.m.           413,145 The Guarantee.png\n",
        "13/01/2014  09:35 a.m.               107 Untitled0.ipynb\n",
        "              20 File(s)      2,447,527 bytes\n",
        "               4 Dir(s)  474,109,108,224 bytes free\n"
       ]
      }
     ],
     "prompt_number": 11
    },
    {
     "cell_type": "code",
     "collapsed": false,
     "input": [
      "!ping www.google.com"
     ],
     "language": "python",
     "metadata": {},
     "outputs": [
      {
       "output_type": "stream",
       "stream": "stdout",
       "text": [
        "\n",
        "Pinging www.google.com [74.125.237.176] with 32 bytes of data:\n",
        "Request timed out.\n",
        "Request timed out.\n",
        "Request timed out.\n",
        "Request timed out.\n",
        "\n",
        "Ping statistics for 74.125.237.176:\n",
        "    Packets: Sent = 4, Received = 0, Lost = 4 (100% loss),\n"
       ]
      }
     ],
     "prompt_number": 13
    },
    {
     "cell_type": "code",
     "collapsed": false,
     "input": [
      "comnd=\"!dir > xxx.txt\"\n",
      "comnd"
     ],
     "language": "python",
     "metadata": {},
     "outputs": [
      {
       "output_type": "pyout",
       "prompt_number": 19,
       "text": [
        "'!dir > xxx.txt'"
       ]
      }
     ],
     "prompt_number": 19
    },
    {
     "cell_type": "code",
     "collapsed": false,
     "input": [
      "import commands\n",
      "output = commands.getoutput(comnd)\n",
      "print output\n"
     ],
     "language": "python",
     "metadata": {},
     "outputs": [
      {
       "output_type": "stream",
       "stream": "stdout",
       "text": [
        "\n"
       ]
      }
     ],
     "prompt_number": 23
    },
    {
     "cell_type": "code",
     "collapsed": false,
     "input": [
      "output"
     ],
     "language": "python",
     "metadata": {},
     "outputs": [
      {
       "output_type": "pyout",
       "prompt_number": 21,
       "text": [
        "''"
       ]
      }
     ],
     "prompt_number": 21
    },
    {
     "cell_type": "code",
     "collapsed": false,
     "input": [
      "import subprocess\n",
      "output = subprocess.Popen([\"ls\", \"-l\"], stdout = subprocess.PIPE, stderr = subprocess.STDOUT).communicate()[0].split('\\n')\n"
     ],
     "language": "python",
     "metadata": {},
     "outputs": [],
     "prompt_number": 74
    },
    {
     "cell_type": "code",
     "collapsed": false,
     "input": [
      "output"
     ],
     "language": "python",
     "metadata": {},
     "outputs": [
      {
       "output_type": "pyout",
       "prompt_number": 75,
       "text": [
        "['total 1206',\n",
        " '-rw-r--r--    1 bishopp  Administ   383119 Jan  9 15:56 After Midnight.png',\n",
        " '-rw-r--r--    1 bishopp  Administ   499987 Jan  8 15:06 Airship.png',\n",
        " '-rw-r--r--    1 bishopp  Administ    42694 Dec 10 07:51 AllTCFs (alternative).csv',\n",
        " '-rw-r--r--    1 bishopp  Administ    45902 Jan  7 16:06 AllTCFs.csv',\n",
        " '-rw-r--r--    1 bishopp  Administ    54658 Dec  6 08:22 Analysis of TCFs - before data input file changed to make it like the Dec 2014 dump of results.xlsx',\n",
        " '-rw-r--r--    1 bishopp  Administ    12395 Aug  6 09:40 Courses.ipynb',\n",
        " 'drwxr-xr-x    1 bishopp  Administ     4096 Jan  6 07:38 Data',\n",
        " '-rw-r--r--    1 bishopp  Administ   352646 Jan  9 15:54 Gucci.png',\n",
        " '-rw-r--r--    1 bishopp  Administ    15159 Dec 19 08:16 Offshore results.xlsx',\n",
        " 'drwxr-xr-x    1 bishopp  Administ     4096 Dec  6 08:01 Old stuff',\n",
        " '-rw-r--r--    1 bishopp  Administ      232 Dec  3 13:43 README.md',\n",
        " '-rw-r--r--    1 bishopp  Administ   233379 Jan  9 15:52 Rocket Science.png',\n",
        " '-rw-r--r--    1 bishopp  Administ    42421 Jan  7 16:13 TCFanalysis.ipynb',\n",
        " '-rw-r--r--    1 bishopp  Administ   413145 Jan  8 15:35 The Guarantee.png',\n",
        " '-rw-r--r--    1 bishopp  Administ      107 Jan 13 09:35 Untitled0.ipynb',\n",
        " '-rw-r--r--    1 bishopp  Administ     9240 Dec  6 07:50 functions.py',\n",
        " '-rw-r--r--    1 bishopp  Administ     5377 Dec  6 07:51 functions.pyc',\n",
        " '-rwxr-xr-x    1 bishopp  Administ       33 Oct  4 15:27 ipy.bat',\n",
        " '-rw-r--r--    1 bishopp  Administ    34944 Jan 13 09:45 plotTCFs.ipynb',\n",
        " '-rw-r--r--    1 bishopp  Administ     9377 Dec 27 09:20 processRawRaceData.ipynb',\n",
        " '-rw-r--r--    1 bishopp  Administ    48510 Nov  7 21:37 read and merge.ipynb',\n",
        " '-rw-r--r--    1 bishopp  Administ   244202 Nov 23 09:03 testAnalysis2.ipynb',\n",
        " '-rw-r--r--    1 bishopp  Administ       92 Jan 13 14:30 xxx.txt',\n",
        " '']"
       ]
      }
     ],
     "prompt_number": 75
    },
    {
     "cell_type": "code",
     "collapsed": false,
     "input": [
      "type(output)"
     ],
     "language": "python",
     "metadata": {},
     "outputs": [
      {
       "output_type": "pyout",
       "prompt_number": 76,
       "text": [
        "list"
       ]
      }
     ],
     "prompt_number": 76
    },
    {
     "cell_type": "code",
     "collapsed": false,
     "input": [
      "output2=output.split('\\n')\n",
      "#output2.replace(\"   1\",\",\")\n",
      "\n",
      "\n",
      "#str = \"this is string example....wow!!! this is really string\";\n",
      "#print str.replace(\"is\", \"was\");\n",
      "#print str.replace(\"is\", \"was\", 3);\n",
      "output2"
     ],
     "language": "python",
     "metadata": {},
     "outputs": [
      {
       "output_type": "pyout",
       "prompt_number": 72,
       "text": [
        "['total 1206',\n",
        " '-rw-r--r--    1 bishopp  Administ   383119 Jan  9 15:56 After Midnight.png',\n",
        " '-rw-r--r--    1 bishopp  Administ   499987 Jan  8 15:06 Airship.png',\n",
        " '-rw-r--r--    1 bishopp  Administ    42694 Dec 10 07:51 AllTCFs (alternative).csv',\n",
        " '-rw-r--r--    1 bishopp  Administ    45902 Jan  7 16:06 AllTCFs.csv',\n",
        " '-rw-r--r--    1 bishopp  Administ    54658 Dec  6 08:22 Analysis of TCFs - before data input file changed to make it like the Dec 2014 dump of results.xlsx',\n",
        " '-rw-r--r--    1 bishopp  Administ    12395 Aug  6 09:40 Courses.ipynb',\n",
        " 'drwxr-xr-x    1 bishopp  Administ     4096 Jan  6 07:38 Data',\n",
        " '-rw-r--r--    1 bishopp  Administ   352646 Jan  9 15:54 Gucci.png',\n",
        " '-rw-r--r--    1 bishopp  Administ    15159 Dec 19 08:16 Offshore results.xlsx',\n",
        " 'drwxr-xr-x    1 bishopp  Administ     4096 Dec  6 08:01 Old stuff',\n",
        " '-rw-r--r--    1 bishopp  Administ      232 Dec  3 13:43 README.md',\n",
        " '-rw-r--r--    1 bishopp  Administ   233379 Jan  9 15:52 Rocket Science.png',\n",
        " '-rw-r--r--    1 bishopp  Administ    42421 Jan  7 16:13 TCFanalysis.ipynb',\n",
        " '-rw-r--r--    1 bishopp  Administ   413145 Jan  8 15:35 The Guarantee.png',\n",
        " '-rw-r--r--    1 bishopp  Administ      107 Jan 13 09:35 Untitled0.ipynb',\n",
        " '-rw-r--r--    1 bishopp  Administ     9240 Dec  6 07:50 functions.py',\n",
        " '-rw-r--r--    1 bishopp  Administ     5377 Dec  6 07:51 functions.pyc',\n",
        " '-rwxr-xr-x    1 bishopp  Administ       33 Oct  4 15:27 ipy.bat',\n",
        " '-rw-r--r--    1 bishopp  Administ    34944 Jan 13 09:45 plotTCFs.ipynb',\n",
        " '-rw-r--r--    1 bishopp  Administ     9377 Dec 27 09:20 processRawRaceData.ipynb',\n",
        " '-rw-r--r--    1 bishopp  Administ    48510 Nov  7 21:37 read and merge.ipynb',\n",
        " '-rw-r--r--    1 bishopp  Administ   244202 Nov 23 09:03 testAnalysis2.ipynb',\n",
        " '-rw-r--r--    1 bishopp  Administ       92 Jan 13 14:30 xxx.txt',\n",
        " '']"
       ]
      }
     ],
     "prompt_number": 72
    },
    {
     "cell_type": "code",
     "collapsed": false,
     "input": [
      "import pandas as pd\n",
      "df = pd.DataFrame(output2)\n",
      "df"
     ],
     "language": "python",
     "metadata": {},
     "outputs": [
      {
       "html": [
        "<div style=\"max-height:1000px;max-width:1500px;overflow:auto;\">\n",
        "<table border=\"1\" class=\"dataframe\">\n",
        "  <thead>\n",
        "    <tr style=\"text-align: right;\">\n",
        "      <th></th>\n",
        "      <th>0</th>\n",
        "    </tr>\n",
        "  </thead>\n",
        "  <tbody>\n",
        "    <tr>\n",
        "      <th>0 </th>\n",
        "      <td>                                        total 1206</td>\n",
        "    </tr>\n",
        "    <tr>\n",
        "      <th>1 </th>\n",
        "      <td> -rw-r--r--    1 bishopp  Administ   383119 Jan...</td>\n",
        "    </tr>\n",
        "    <tr>\n",
        "      <th>2 </th>\n",
        "      <td> -rw-r--r--    1 bishopp  Administ   499987 Jan...</td>\n",
        "    </tr>\n",
        "    <tr>\n",
        "      <th>3 </th>\n",
        "      <td> -rw-r--r--    1 bishopp  Administ    42694 Dec...</td>\n",
        "    </tr>\n",
        "    <tr>\n",
        "      <th>4 </th>\n",
        "      <td> -rw-r--r--    1 bishopp  Administ    45902 Jan...</td>\n",
        "    </tr>\n",
        "    <tr>\n",
        "      <th>5 </th>\n",
        "      <td> -rw-r--r--    1 bishopp  Administ    54658 Dec...</td>\n",
        "    </tr>\n",
        "    <tr>\n",
        "      <th>6 </th>\n",
        "      <td> -rw-r--r--    1 bishopp  Administ    12395 Aug...</td>\n",
        "    </tr>\n",
        "    <tr>\n",
        "      <th>7 </th>\n",
        "      <td> drwxr-xr-x    1 bishopp  Administ     4096 Jan...</td>\n",
        "    </tr>\n",
        "    <tr>\n",
        "      <th>8 </th>\n",
        "      <td> -rw-r--r--    1 bishopp  Administ   352646 Jan...</td>\n",
        "    </tr>\n",
        "    <tr>\n",
        "      <th>9 </th>\n",
        "      <td> -rw-r--r--    1 bishopp  Administ    15159 Dec...</td>\n",
        "    </tr>\n",
        "    <tr>\n",
        "      <th>10</th>\n",
        "      <td> drwxr-xr-x    1 bishopp  Administ     4096 Dec...</td>\n",
        "    </tr>\n",
        "    <tr>\n",
        "      <th>11</th>\n",
        "      <td> -rw-r--r--    1 bishopp  Administ      232 Dec...</td>\n",
        "    </tr>\n",
        "    <tr>\n",
        "      <th>12</th>\n",
        "      <td> -rw-r--r--    1 bishopp  Administ   233379 Jan...</td>\n",
        "    </tr>\n",
        "    <tr>\n",
        "      <th>13</th>\n",
        "      <td> -rw-r--r--    1 bishopp  Administ    42421 Jan...</td>\n",
        "    </tr>\n",
        "    <tr>\n",
        "      <th>14</th>\n",
        "      <td> -rw-r--r--    1 bishopp  Administ   413145 Jan...</td>\n",
        "    </tr>\n",
        "    <tr>\n",
        "      <th>15</th>\n",
        "      <td> -rw-r--r--    1 bishopp  Administ      107 Jan...</td>\n",
        "    </tr>\n",
        "    <tr>\n",
        "      <th>16</th>\n",
        "      <td> -rw-r--r--    1 bishopp  Administ     9240 Dec...</td>\n",
        "    </tr>\n",
        "    <tr>\n",
        "      <th>17</th>\n",
        "      <td> -rw-r--r--    1 bishopp  Administ     5377 Dec...</td>\n",
        "    </tr>\n",
        "    <tr>\n",
        "      <th>18</th>\n",
        "      <td> -rwxr-xr-x    1 bishopp  Administ       33 Oct...</td>\n",
        "    </tr>\n",
        "    <tr>\n",
        "      <th>19</th>\n",
        "      <td> -rw-r--r--    1 bishopp  Administ    34944 Jan...</td>\n",
        "    </tr>\n",
        "    <tr>\n",
        "      <th>20</th>\n",
        "      <td> -rw-r--r--    1 bishopp  Administ     9377 Dec...</td>\n",
        "    </tr>\n",
        "    <tr>\n",
        "      <th>21</th>\n",
        "      <td> -rw-r--r--    1 bishopp  Administ    48510 Nov...</td>\n",
        "    </tr>\n",
        "    <tr>\n",
        "      <th>22</th>\n",
        "      <td> -rw-r--r--    1 bishopp  Administ   244202 Nov...</td>\n",
        "    </tr>\n",
        "    <tr>\n",
        "      <th>23</th>\n",
        "      <td> -rw-r--r--    1 bishopp  Administ       92 Jan...</td>\n",
        "    </tr>\n",
        "    <tr>\n",
        "      <th>24</th>\n",
        "      <td>                                                  </td>\n",
        "    </tr>\n",
        "  </tbody>\n",
        "</table>\n",
        "</div>"
       ],
       "output_type": "pyout",
       "prompt_number": 64,
       "text": [
        "                                                    0\n",
        "0                                          total 1206\n",
        "1   -rw-r--r--    1 bishopp  Administ   383119 Jan...\n",
        "2   -rw-r--r--    1 bishopp  Administ   499987 Jan...\n",
        "3   -rw-r--r--    1 bishopp  Administ    42694 Dec...\n",
        "4   -rw-r--r--    1 bishopp  Administ    45902 Jan...\n",
        "5   -rw-r--r--    1 bishopp  Administ    54658 Dec...\n",
        "6   -rw-r--r--    1 bishopp  Administ    12395 Aug...\n",
        "7   drwxr-xr-x    1 bishopp  Administ     4096 Jan...\n",
        "8   -rw-r--r--    1 bishopp  Administ   352646 Jan...\n",
        "9   -rw-r--r--    1 bishopp  Administ    15159 Dec...\n",
        "10  drwxr-xr-x    1 bishopp  Administ     4096 Dec...\n",
        "11  -rw-r--r--    1 bishopp  Administ      232 Dec...\n",
        "12  -rw-r--r--    1 bishopp  Administ   233379 Jan...\n",
        "13  -rw-r--r--    1 bishopp  Administ    42421 Jan...\n",
        "14  -rw-r--r--    1 bishopp  Administ   413145 Jan...\n",
        "15  -rw-r--r--    1 bishopp  Administ      107 Jan...\n",
        "16  -rw-r--r--    1 bishopp  Administ     9240 Dec...\n",
        "17  -rw-r--r--    1 bishopp  Administ     5377 Dec...\n",
        "18  -rwxr-xr-x    1 bishopp  Administ       33 Oct...\n",
        "19  -rw-r--r--    1 bishopp  Administ    34944 Jan...\n",
        "20  -rw-r--r--    1 bishopp  Administ     9377 Dec...\n",
        "21  -rw-r--r--    1 bishopp  Administ    48510 Nov...\n",
        "22  -rw-r--r--    1 bishopp  Administ   244202 Nov...\n",
        "23  -rw-r--r--    1 bishopp  Administ       92 Jan...\n",
        "24                                                   "
       ]
      }
     ],
     "prompt_number": 64
    },
    {
     "cell_type": "code",
     "collapsed": false,
     "input": [
      "import subprocess\n",
      "sp = subprocess.Popen(['ls', '-l'], stdout=subprocess.PIPE)\n",
      "output, _ = sp.communicate()\n",
      "print \"Status:\", sp.wait()\n",
      "print \"Output:\"\n",
      "print output\n"
     ],
     "language": "python",
     "metadata": {},
     "outputs": []
    }
   ],
   "metadata": {}
  }
 ]
}