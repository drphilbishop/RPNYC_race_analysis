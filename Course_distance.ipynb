{
 "metadata": {
  "name": "Course_distance",
  "signature": "sha256:c1e25e9db4fb7d3a569c84bac480682f7c8d8f5e0bad3b7b383e8b9dfc7ff41f"
 },
 "nbformat": 3,
 "nbformat_minor": 0,
 "worksheets": [
  {
   "cells": [
    {
     "cell_type": "code",
     "collapsed": false,
     "input": [
      "# Given a course, and perhaps an elapsed time, compute the course distance and average speed \n",
      "# Specify aCourse and elapsedTime, and then click Cell > Run all\n",
      "\n",
      "aCourse=\"SJ-8P-11S-15S-11S-FJ\"\n",
      "elapsedTime = '2:14:04'\n",
      "\n",
      "import pandas as pd\n",
      "import numpy as np\n",
      "import datetime as dt\n",
      "import functions as fn\n",
      "#import matplotlib\n",
      "import math\n",
      "import os\n",
      "import re\n",
      "\n",
      "pd.set_option('display.width',10000)\n",
      "pd.set_option('display.precision', 4)\n",
      "\n",
      "windows  = 'C:\\\\Users\\\\bishopp\\\\Dropbox'\n",
      "mac      = '/Users/PhilBishop/Dropbox'\n",
      "datapath = mac + '\\\\Python\\\\Sailing\\\\Data\\\\'\n",
      "datapath\n",
      "\n",
      "marks = pd.read_csv('Mark_locations.csv', sep = ',')\n",
      "marks['latd']  = marks['lat'].map(lambda ll: fn.latlongdm2decdegrees(ll))\n",
      "marks['longd'] = marks['long'].map(lambda ll: fn.latlongdm2decdegrees(ll))\n",
      "marks.head(5)\n"
     ],
     "language": "python",
     "metadata": {},
     "outputs": [
      {
       "html": [
        "<div style=\"max-height:1000px;max-width:1500px;overflow:auto;\">\n",
        "<table border=\"1\" class=\"dataframe\">\n",
        "  <thead>\n",
        "    <tr style=\"text-align: right;\">\n",
        "      <th></th>\n",
        "      <th>Name</th>\n",
        "      <th>no</th>\n",
        "      <th>lat</th>\n",
        "      <th>long</th>\n",
        "      <th>Description</th>\n",
        "      <th>latd</th>\n",
        "      <th>longd</th>\n",
        "    </tr>\n",
        "  </thead>\n",
        "  <tbody>\n",
        "    <tr>\n",
        "      <th>0</th>\n",
        "      <td> startRPNYC</td>\n",
        "      <td> SR</td>\n",
        "      <td> 41 17.150S</td>\n",
        "      <td> 174 47.200E</td>\n",
        "      <td>                               Start line at RPNYC</td>\n",
        "      <td> 41.286</td>\n",
        "      <td> 174.787</td>\n",
        "    </tr>\n",
        "    <tr>\n",
        "      <th>1</th>\n",
        "      <td>  startJern</td>\n",
        "      <td> SJ</td>\n",
        "      <td> 41 17.150S</td>\n",
        "      <td> 174 48.400E</td>\n",
        "      <td>                       Start line at Pt Jerningham</td>\n",
        "      <td> 41.286</td>\n",
        "      <td> 174.807</td>\n",
        "    </tr>\n",
        "    <tr>\n",
        "      <th>2</th>\n",
        "      <td>      topWL</td>\n",
        "      <td>  1</td>\n",
        "      <td> 41 17.150S</td>\n",
        "      <td> 174 48.400E</td>\n",
        "      <td> Laid windward mark: cylindrical ORANGE buoy wi...</td>\n",
        "      <td> 41.286</td>\n",
        "      <td> 174.807</td>\n",
        "    </tr>\n",
        "    <tr>\n",
        "      <th>3</th>\n",
        "      <td>     wingWL</td>\n",
        "      <td>  2</td>\n",
        "      <td> 41 17.150S</td>\n",
        "      <td> 174 48.400E</td>\n",
        "      <td> Laid wing mark: cylindrical ORANGE buoy with n...</td>\n",
        "      <td> 41.286</td>\n",
        "      <td> 174.807</td>\n",
        "    </tr>\n",
        "    <tr>\n",
        "      <th>4</th>\n",
        "      <td>      botWL</td>\n",
        "      <td>  3</td>\n",
        "      <td> 41 17.150S</td>\n",
        "      <td> 174 48.400E</td>\n",
        "      <td> Laid leeward mark: cylindrical ORANGE buoy wit...</td>\n",
        "      <td> 41.286</td>\n",
        "      <td> 174.807</td>\n",
        "    </tr>\n",
        "  </tbody>\n",
        "</table>\n",
        "</div>"
       ],
       "output_type": "pyout",
       "prompt_number": 1,
       "text": [
        "         Name  no         lat         long                                        Description    latd    longd\n",
        "0  startRPNYC  SR  41 17.150S  174 47.200E                                Start line at RPNYC  41.286  174.787\n",
        "1   startJern  SJ  41 17.150S  174 48.400E                        Start line at Pt Jerningham  41.286  174.807\n",
        "2       topWL   1  41 17.150S  174 48.400E  Laid windward mark: cylindrical ORANGE buoy wi...  41.286  174.807\n",
        "3      wingWL   2  41 17.150S  174 48.400E  Laid wing mark: cylindrical ORANGE buoy with n...  41.286  174.807\n",
        "4       botWL   3  41 17.150S  174 48.400E  Laid leeward mark: cylindrical ORANGE buoy wit...  41.286  174.807"
       ]
      }
     ],
     "prompt_number": 1
    },
    {
     "cell_type": "code",
     "collapsed": false,
     "input": [
      "# Compute course distance for a specified course\n",
      "dist=fn.course_dist(aCourse,marks)\n",
      "dist"
     ],
     "language": "python",
     "metadata": {},
     "outputs": [
      {
       "output_type": "pyout",
       "prompt_number": 21,
       "text": [
        "12.459708248746356"
       ]
      }
     ],
     "prompt_number": 21
    },
    {
     "cell_type": "code",
     "collapsed": false,
     "input": [
      "#aCourse=\"SJ-8P-11S-15S-FJ\"\n",
      "#aCourse=\"SJ-8P-11S-10P-11P-FJ\" # div 1\n",
      "#aCourse=\"SJ-8P-11S-10P-5P-FJ\" # div 2\n",
      "aCourse=\"SJ-8P-11S-15S-11P-FJ\" # div 3\n"
     ],
     "language": "python",
     "metadata": {},
     "outputs": [],
     "prompt_number": 20
    },
    {
     "cell_type": "code",
     "collapsed": false,
     "input": [
      "# Average speed to complete aCourse given elapsed time (hh:mm:ss)\n",
      "avgSpeed = dist / (fn.et2seconds(elapsedTime) / 3600.0)\n",
      "avgSpeed\n",
      "        "
     ],
     "language": "python",
     "metadata": {},
     "outputs": [
      {
       "metadata": {},
       "output_type": "pyout",
       "prompt_number": 10,
       "text": [
        "4.0290370800683091"
       ]
      }
     ],
     "prompt_number": 10
    },
    {
     "cell_type": "markdown",
     "metadata": {},
     "source": [
      "## TODO\n",
      "- Check co-ords are correct for marks (this data is 2 yrs old)\n",
      "- Get course by number from a list or enter the course explicitly"
     ]
    },
    {
     "cell_type": "code",
     "collapsed": false,
     "input": [],
     "language": "python",
     "metadata": {},
     "outputs": [],
     "prompt_number": 9
    }
   ],
   "metadata": {}
  }
 ]
}