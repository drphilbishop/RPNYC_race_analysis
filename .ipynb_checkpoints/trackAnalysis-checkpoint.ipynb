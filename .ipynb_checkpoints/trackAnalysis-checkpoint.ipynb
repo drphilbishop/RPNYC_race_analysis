{
 "metadata": {
  "name": "",
  "signature": "sha256:ffcb89b17a933efdc8c9b7e7e0ddf8c7ce87131a901d1a0ec42fc1af98ddf073"
 },
 "nbformat": 3,
 "nbformat_minor": 0,
 "worksheets": [
  {
   "cells": [
    {
     "cell_type": "code",
     "collapsed": false,
     "input": [
      "import pandas as pd\n",
      "import numpy as np\n",
      "import datetime as dt\n",
      "import functions as fn\n",
      "#import matplotlib\n",
      "import os\n",
      "import re\n",
      "\n",
      "inputDataFile  = 'test1.vcc'\n",
      "outputDataFile = inputDataFile\n",
      "ostype = 'win'   # Enter mac or win\n",
      "\n",
      "pd.set_option('display.line_width',10000)\n",
      "pd.set_option('display.precision', 4)\n",
      "#pd.set_option('display.max_columns',10000)\n",
      "#pd.set_option('display.max_rows',10000)\n",
      "#pd.set_option('display.max_colwidth',10000)\n",
      "#pd.set_option('display.max_info_columns',10000)\n",
      "#pd.set_option('display.notebook_repr_html',True)\n",
      "#pd.set_option('display.expand_frame_repr', True)\n",
      "\n",
      "# NB: only process this cell once as the os.chdir function changes the current directory each time.\n",
      "if ostype == 'win':\n",
      "    os.chdir('..\\\\..')\n",
      "    inDataPathAndFile  = os.getcwd()+'\\\\Python\\\\Sailing\\\\'+inputDataFile\n",
      "    outDataPathAndFile = os.getcwd()+'\\\\Sailing cmte\\\\Handicapping\\\\2014-15 season\\\\Processed CSVs\\\\'+outputDataFile\n",
      "else:\n",
      "    os.chdir('../..')\n",
      "    inDataPathAndFile  = os.getcwd()+'/Python/Sailing/'+inputDataFile\n",
      "    outDataPathAndFile = os.getcwd()+'/Sailing cmte/Handicapping/2014-15 season/Processed CSVs/'+outputDataFile\n",
      "\n",
      "print inDataPathAndFile, '\\n', outDataPathAndFile\n"
     ],
     "language": "python",
     "metadata": {},
     "outputs": [
      {
       "output_type": "stream",
       "stream": "stdout",
       "text": [
        "line_width has been deprecated, use display.width instead (currently both are\n",
        "identical)\n",
        "\n",
        "C:\\Users\\bishopp\\Dropbox\\Python\\Sailing\\test1.vcc \n",
        "C:\\Users\\bishopp\\Dropbox\\Sailing cmte\\Handicapping\\2014-15 season\\Processed CSVs\\test1.vcc\n"
       ]
      }
     ],
     "prompt_number": 1
    },
    {
     "cell_type": "code",
     "collapsed": false,
     "input": [
      "cd Python\\\\Sailing"
     ],
     "language": "python",
     "metadata": {},
     "outputs": [
      {
       "output_type": "stream",
       "stream": "stdout",
       "text": [
        "C:\\Users\\bishopp\\Dropbox\\Python\\Sailing\n"
       ]
      }
     ],
     "prompt_number": 2
    },
    {
     "cell_type": "code",
     "collapsed": false,
     "input": [
      "os.getcwd()"
     ],
     "language": "python",
     "metadata": {},
     "outputs": [
      {
       "metadata": {},
       "output_type": "pyout",
       "prompt_number": 3,
       "text": [
        "'C:\\\\Users\\\\bishopp\\\\Dropbox\\\\Python\\\\Sailing'"
       ]
      }
     ],
     "prompt_number": 3
    },
    {
     "cell_type": "code",
     "collapsed": false,
     "input": [
      "cmd = '''sed -i.bak \\\n",
      "-e \"1,9d\" \\\n",
      "-e \"s/      <Trackpoint dateTime=//\" \\\n",
      "-e \"s/2015-03-21T//\" \\\n",
      "-e \"s/+13:00//\" \\\n",
      "-e \"s/ heading=/,/\" \\\n",
      "-e \"s/ speed=/,/\" \\\n",
      "-e \"s/ latitude=/,/\" \\\n",
      "-e \"s/ longitude=/,/\" \\\n",
      "-e \"s% />%%\" \\\n",
      "-e \"s%    </Trackpoints>%%\" \\\n",
      "-e \"s%  </CapturedTrack>%%\" \\\n",
      "-e \"s%</VelocitekControlCenter>%%\" \\\n",
      "test1.vcc'''"
     ],
     "language": "python",
     "metadata": {},
     "outputs": [],
     "prompt_number": 4
    },
    {
     "cell_type": "code",
     "collapsed": false,
     "input": [
      "os.system(cmd)"
     ],
     "language": "python",
     "metadata": {},
     "outputs": [
      {
       "metadata": {},
       "output_type": "pyout",
       "prompt_number": 5,
       "text": [
        "0"
       ]
      }
     ],
     "prompt_number": 5
    },
    {
     "cell_type": "code",
     "collapsed": false,
     "input": [
      "CSVcolNums = [0,1,2,3,4]\n",
      "CSVcolHdrs = ['Time','Heading','Speed','Lat','Long']\n",
      "df = pd.read_csv(inDataPathAndFile, sep=',', header=None)\n",
      "df.columns = CSVcolHdrs\n",
      "df.head(10)\n"
     ],
     "language": "python",
     "metadata": {},
     "outputs": [
      {
       "html": [
        "<div style=\"max-height:1000px;max-width:1500px;overflow:auto;\">\n",
        "<table border=\"1\" class=\"dataframe\">\n",
        "  <thead>\n",
        "    <tr style=\"text-align: right;\">\n",
        "      <th></th>\n",
        "      <th>Time</th>\n",
        "      <th>Heading</th>\n",
        "      <th>Speed</th>\n",
        "      <th>Lat</th>\n",
        "      <th>Long</th>\n",
        "    </tr>\n",
        "  </thead>\n",
        "  <tbody>\n",
        "    <tr>\n",
        "      <th>0</th>\n",
        "      <td> 11:26:59</td>\n",
        "      <td> 326.18</td>\n",
        "      <td> 0.315</td>\n",
        "      <td>-41.31</td>\n",
        "      <td> 174.798</td>\n",
        "    </tr>\n",
        "    <tr>\n",
        "      <th>1</th>\n",
        "      <td> 11:27:01</td>\n",
        "      <td> 294.02</td>\n",
        "      <td> 1.465</td>\n",
        "      <td>-41.31</td>\n",
        "      <td> 174.798</td>\n",
        "    </tr>\n",
        "    <tr>\n",
        "      <th>2</th>\n",
        "      <td> 11:27:03</td>\n",
        "      <td> 167.12</td>\n",
        "      <td> 2.620</td>\n",
        "      <td>-41.31</td>\n",
        "      <td> 174.798</td>\n",
        "    </tr>\n",
        "    <tr>\n",
        "      <th>3</th>\n",
        "      <td> 11:27:05</td>\n",
        "      <td> 176.00</td>\n",
        "      <td> 0.976</td>\n",
        "      <td>-41.31</td>\n",
        "      <td> 174.798</td>\n",
        "    </tr>\n",
        "    <tr>\n",
        "      <th>4</th>\n",
        "      <td> 11:27:07</td>\n",
        "      <td> 176.57</td>\n",
        "      <td> 0.859</td>\n",
        "      <td>-41.31</td>\n",
        "      <td> 174.798</td>\n",
        "    </tr>\n",
        "    <tr>\n",
        "      <th>5</th>\n",
        "      <td> 11:27:09</td>\n",
        "      <td> 174.83</td>\n",
        "      <td> 1.636</td>\n",
        "      <td>-41.31</td>\n",
        "      <td> 174.798</td>\n",
        "    </tr>\n",
        "    <tr>\n",
        "      <th>6</th>\n",
        "      <td> 11:27:11</td>\n",
        "      <td> 105.29</td>\n",
        "      <td> 2.374</td>\n",
        "      <td>-41.31</td>\n",
        "      <td> 174.798</td>\n",
        "    </tr>\n",
        "    <tr>\n",
        "      <th>7</th>\n",
        "      <td> 11:27:13</td>\n",
        "      <td> 105.95</td>\n",
        "      <td> 1.301</td>\n",
        "      <td>-41.31</td>\n",
        "      <td> 174.798</td>\n",
        "    </tr>\n",
        "    <tr>\n",
        "      <th>8</th>\n",
        "      <td> 11:27:15</td>\n",
        "      <td>   0.00</td>\n",
        "      <td> 0.073</td>\n",
        "      <td>-41.31</td>\n",
        "      <td> 174.798</td>\n",
        "    </tr>\n",
        "    <tr>\n",
        "      <th>9</th>\n",
        "      <td> 11:27:17</td>\n",
        "      <td>   0.00</td>\n",
        "      <td> 0.193</td>\n",
        "      <td>-41.31</td>\n",
        "      <td> 174.798</td>\n",
        "    </tr>\n",
        "  </tbody>\n",
        "</table>\n",
        "</div>"
       ],
       "metadata": {},
       "output_type": "pyout",
       "prompt_number": 8,
       "text": [
        "       Time  Heading  Speed    Lat     Long\n",
        "0  11:26:59   326.18  0.315 -41.31  174.798\n",
        "1  11:27:01   294.02  1.465 -41.31  174.798\n",
        "2  11:27:03   167.12  2.620 -41.31  174.798\n",
        "3  11:27:05   176.00  0.976 -41.31  174.798\n",
        "4  11:27:07   176.57  0.859 -41.31  174.798\n",
        "5  11:27:09   174.83  1.636 -41.31  174.798\n",
        "6  11:27:11   105.29  2.374 -41.31  174.798\n",
        "7  11:27:13   105.95  1.301 -41.31  174.798\n",
        "8  11:27:15     0.00  0.073 -41.31  174.798\n",
        "9  11:27:17     0.00  0.193 -41.31  174.798"
       ]
      }
     ],
     "prompt_number": 8
    },
    {
     "cell_type": "code",
     "collapsed": false,
     "input": [
      "df.tail()"
     ],
     "language": "python",
     "metadata": {},
     "outputs": [
      {
       "html": [
        "<div style=\"max-height:1000px;max-width:1500px;overflow:auto;\">\n",
        "<table border=\"1\" class=\"dataframe\">\n",
        "  <thead>\n",
        "    <tr style=\"text-align: right;\">\n",
        "      <th></th>\n",
        "      <th>Time</th>\n",
        "      <th>Heading</th>\n",
        "      <th>Speed</th>\n",
        "      <th>Lat</th>\n",
        "      <th>Long</th>\n",
        "    </tr>\n",
        "  </thead>\n",
        "  <tbody>\n",
        "    <tr>\n",
        "      <th>9221</th>\n",
        "      <td> 16:34:37</td>\n",
        "      <td> 34.08</td>\n",
        "      <td> 0.718</td>\n",
        "      <td>-41.31</td>\n",
        "      <td> 174.798</td>\n",
        "    </tr>\n",
        "    <tr>\n",
        "      <th>9222</th>\n",
        "      <td> 16:34:39</td>\n",
        "      <td> 30.54</td>\n",
        "      <td> 0.578</td>\n",
        "      <td>-41.31</td>\n",
        "      <td> 174.798</td>\n",
        "    </tr>\n",
        "    <tr>\n",
        "      <th>9223</th>\n",
        "      <td> 16:34:41</td>\n",
        "      <td> 30.35</td>\n",
        "      <td> 0.600</td>\n",
        "      <td>-41.31</td>\n",
        "      <td> 174.798</td>\n",
        "    </tr>\n",
        "    <tr>\n",
        "      <th>9224</th>\n",
        "      <td>      NaN</td>\n",
        "      <td>   NaN</td>\n",
        "      <td>   NaN</td>\n",
        "      <td>   NaN</td>\n",
        "      <td>     NaN</td>\n",
        "    </tr>\n",
        "    <tr>\n",
        "      <th>9225</th>\n",
        "      <td>      NaN</td>\n",
        "      <td>   NaN</td>\n",
        "      <td>   NaN</td>\n",
        "      <td>   NaN</td>\n",
        "      <td>     NaN</td>\n",
        "    </tr>\n",
        "  </tbody>\n",
        "</table>\n",
        "</div>"
       ],
       "metadata": {},
       "output_type": "pyout",
       "prompt_number": 9,
       "text": [
        "          Time  Heading  Speed    Lat     Long\n",
        "9221  16:34:37    34.08  0.718 -41.31  174.798\n",
        "9222  16:34:39    30.54  0.578 -41.31  174.798\n",
        "9223  16:34:41    30.35  0.600 -41.31  174.798\n",
        "9224       NaN      NaN    NaN    NaN      NaN\n",
        "9225       NaN      NaN    NaN    NaN      NaN"
       ]
      }
     ],
     "prompt_number": 9
    },
    {
     "cell_type": "code",
     "collapsed": false,
     "input": [],
     "language": "python",
     "metadata": {},
     "outputs": []
    }
   ],
   "metadata": {}
  }
 ]
}