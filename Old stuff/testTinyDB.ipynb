{
 "metadata": {
  "name": "",
  "signature": "sha256:6a97323c0b78c508aea786f76b492d05ed386ae84c77e1409ede10d14716510d"
 },
 "nbformat": 3,
 "nbformat_minor": 0,
 "worksheets": [
  {
   "cells": [
    {
     "cell_type": "code",
     "collapsed": false,
     "input": [
      "# Title: Messing about with TinyDB\n",
      "# Author: Phil Bishop\n",
      "# Date: 2015-05-19\n",
      "\n",
      "\n",
      "from tinydb import TinyDB, where\n",
      "import csv\n",
      "import os\n",
      "\n",
      "os.chdir(\"C:\\\\Users\\\\bishopp\\\\Dropbox\\\\Python\\\\dbase\")\n",
      "db = TinyDB('app/db/data.json')\n",
      "\n",
      "class boat(object):\n",
      "\n",
      "    tbl = db.table('boat')\n",
      "\n",
      "    def __init__(self,name,sailno):\n",
      "        self.name = name\n",
      "        self.sailno = sailno\n",
      "        boat.tbl.insert({\n",
      "            'name': self.name,\n",
      "            'sailno': self.sailno\n",
      "        })\n",
      "\n",
      "    def importBoat(self,file):\n",
      "        'Performs a purge, then an import'\n",
      "        boat.tbl.purge()\n",
      "        with open(file) as csvfile:\n",
      "            reader = csv.DictReader(csvfile)\n",
      "            for row in reader:\n",
      "                boat.tbl.insert({\n",
      "                    'name': row['Boat'],\n",
      "                    'sailno': row['SailNo']\n",
      "                })\n"
     ],
     "language": "python",
     "metadata": {},
     "outputs": [],
     "prompt_number": 3
    },
    {
     "cell_type": "code",
     "collapsed": false,
     "input": [
      " db.insert({'name': 'Helter Skelter', 'sailno': 4159})"
     ],
     "language": "python",
     "metadata": {},
     "outputs": [
      {
       "metadata": {},
       "output_type": "pyout",
       "prompt_number": 6,
       "text": [
        "1"
       ]
      }
     ],
     "prompt_number": 6
    },
    {
     "cell_type": "code",
     "collapsed": false,
     "input": [
      "boat.tbl.all()"
     ],
     "language": "python",
     "metadata": {},
     "outputs": [
      {
       "metadata": {},
       "output_type": "pyout",
       "prompt_number": 7,
       "text": [
        "[]"
       ]
      }
     ],
     "prompt_number": 7
    },
    {
     "cell_type": "code",
     "collapsed": false,
     "input": [
      "db.all()"
     ],
     "language": "python",
     "metadata": {},
     "outputs": [
      {
       "metadata": {},
       "output_type": "pyout",
       "prompt_number": 8,
       "text": [
        "[{u'name': u'Helter Skelter', u'sailno': 4159}]"
       ]
      }
     ],
     "prompt_number": 8
    },
    {
     "cell_type": "code",
     "collapsed": false,
     "input": [],
     "language": "python",
     "metadata": {},
     "outputs": []
    }
   ],
   "metadata": {}
  }
 ]
}