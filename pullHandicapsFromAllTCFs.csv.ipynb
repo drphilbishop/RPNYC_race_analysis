{
 "metadata": {
  "name": "",
  "signature": "sha256:46eb2cb562210951e143f02d82fc6509bd4d7cd80204c27ed423ee1e595ad7a9"
 },
 "nbformat": 3,
 "nbformat_minor": 0,
 "worksheets": [
  {
   "cells": [
    {
     "cell_type": "code",
     "collapsed": false,
     "input": [
      "# Assign parameter values required by the TCF update formula\n",
      "numSeeds = 2.\n",
      "numFinished = 4.\n",
      "pctFinished = 0.5\n",
      "numPastPerfs = 4.\n",
      "loClamp = .03\n",
      "upClamp = .03    \n",
      "\n",
      "inputDataFile = 'AllTCFs.csv'\n",
      "#inputDataFile = 'All_results2014-15_DivOpen.csv'\n",
      "ostype = 'win'  # Enter mac or win\n",
      "\n",
      "import pandas as pd\n",
      "import datetime as dt\n",
      "from functions import *\n",
      "import os\n",
      "\n",
      "pd.set_option('display.expand_frame_repr', True)\n",
      "pd.set_option('display.width',10000)\n",
      "pd.set_option('display.max_columns',10000)\n",
      "pd.set_option('display.max_rows',10000)\n",
      "pd.set_option('display.max_colwidth',10000)\n",
      "pd.set_option('display.max_info_columns',10000)\n",
      "pd.set_option('display.max_seq_items',100)\n",
      "pd.set_option('display.multi_sparse', True)\n",
      "\n",
      "if ostype == 'win':\n",
      "    dataPathAndFile = os.getcwd() + '//' + inputDataFile\n",
      "else:\n",
      "    dataPathAndFile = os.getcwd() + '/Data/' + inputDataFile\n",
      "\n",
      "print dataPathAndFile\n"
     ],
     "language": "python",
     "metadata": {},
     "outputs": [
      {
       "output_type": "stream",
       "stream": "stdout",
       "text": [
        "C:\\Users\\bishopp\\Dropbox\\Python\\Sailing//AllTCFs.csv\n"
       ]
      }
     ],
     "prompt_number": 3
    },
    {
     "cell_type": "code",
     "collapsed": false,
     "input": [
      "dfTCF=pd.read_csv(dataPathAndFile, sep = ',').reset_index()\n",
      "\n",
      "def get_last5_tcf(dfTCF):\n",
      "    \n",
      "    df_new=pd.DataFrame()    \n",
      "    for index, df in dfTCF.groupby(['Boat name','Handicap','Div']):         \n",
      "        df_s = df.dropna(subset=['newTCF','TCFst','TCFclmp']).tail(5)\n",
      "        \n",
      "        df_s['Count']= df_s.reset_index().index - len(df_s)\n",
      "        df_s = df_s[['Boat name','Handicap','Div','Count','Date','TCFst','TCFclmp','newTCF']]        \n",
      "        df_new=df_new.append(df_s)    \n",
      "    df_new.to_csv('TCF_last5.csv', index=False)    \n",
      "    return df_new  \n",
      "\n",
      "def get_phrf_irc(dfTCF, score_type):\n",
      "\n",
      "    boats=[]\n",
      "    for index, df in dfTCF.groupby(['Boat name']): \n",
      "        df = df[['Boat name',score_type,'Date']].dropna(subset=[score_type]) # Dropna on score_type\n",
      "        df = df.loc[df[score_type].shift(1)!= df[score_type]] # Shift score_type column down by 1 row to compare last race\n",
      "        \n",
      "        df_t2 = df.tail(2).reset_index() # get a data frame of 2 most recent change        \n",
      "        if not df_t2.empty:        \n",
      "            boat_name = df.reset_index().loc[0,'Boat name']\n",
      "            if len(df_t2)==1:\n",
      "                boat_d={'Boat name':boat_name,\n",
      "                        score_type+' was':np.nan,\n",
      "                        score_type+' now':df_t2.loc[0,score_type],\n",
      "                        'Date change observed':df_t2.loc[0,'Date']}\n",
      "            else:\n",
      "                boat_d={'Boat name': boat_name,\n",
      "                        score_type+' was':df_t2.loc[0,score_type],\n",
      "                        score_type+' now':df_t2.loc[1,score_type],\n",
      "                        'Date change observed':df_t2.loc[1,'Date']}\n",
      "            boats.append(boat_d)\n",
      "\n",
      "    df_new=pd.DataFrame(boats)\n",
      "    df_new.to_csv(score_type+'.csv', index=False )\n",
      "    return df_new\n",
      "\n",
      "get_last5_tcf(dfTCF)\n",
      "get_phrf_irc(dfTCF,'PHRF')\n",
      "get_phrf_irc(dfTCF,'IRC')\n",
      "\n",
      "print\n"
     ],
     "language": "python",
     "metadata": {},
     "outputs": [
      {
       "ename": "TypeError",
       "evalue": "Input must be iterable!",
       "output_type": "pyerr",
       "traceback": [
        "\u001b[1;31m---------------------------------------------------------------------------\u001b[0m\n\u001b[1;31mTypeError\u001b[0m                                 Traceback (most recent call last)",
        "\u001b[1;32m<ipython-input-4-f016d5406905>\u001b[0m in \u001b[0;36m<module>\u001b[1;34m()\u001b[0m\n\u001b[0;32m     38\u001b[0m     \u001b[1;32mreturn\u001b[0m \u001b[0mdf_new\u001b[0m\u001b[1;33m\u001b[0m\u001b[0m\n\u001b[0;32m     39\u001b[0m \u001b[1;33m\u001b[0m\u001b[0m\n\u001b[1;32m---> 40\u001b[1;33m \u001b[0mget_last5_tcf\u001b[0m\u001b[1;33m(\u001b[0m\u001b[0mdfTCF\u001b[0m\u001b[1;33m)\u001b[0m\u001b[1;33m\u001b[0m\u001b[0m\n\u001b[0m\u001b[0;32m     41\u001b[0m \u001b[0mget_phrf_irc\u001b[0m\u001b[1;33m(\u001b[0m\u001b[0mdfTCF\u001b[0m\u001b[1;33m,\u001b[0m\u001b[1;34m'PHRF'\u001b[0m\u001b[1;33m)\u001b[0m\u001b[1;33m\u001b[0m\u001b[0m\n\u001b[0;32m     42\u001b[0m \u001b[0mget_phrf_irc\u001b[0m\u001b[1;33m(\u001b[0m\u001b[0mdfTCF\u001b[0m\u001b[1;33m,\u001b[0m\u001b[1;34m'IRC'\u001b[0m\u001b[1;33m)\u001b[0m\u001b[1;33m\u001b[0m\u001b[0m\n",
        "\u001b[1;32m<ipython-input-4-f016d5406905>\u001b[0m in \u001b[0;36mget_last5_tcf\u001b[1;34m(dfTCF)\u001b[0m\n\u001b[0;32m      6\u001b[0m     \u001b[1;32mfor\u001b[0m \u001b[0mindex\u001b[0m\u001b[1;33m,\u001b[0m \u001b[0mdf\u001b[0m \u001b[1;32min\u001b[0m \u001b[0mdfTCF\u001b[0m\u001b[1;33m.\u001b[0m\u001b[0mgroupby\u001b[0m\u001b[1;33m(\u001b[0m\u001b[1;33m[\u001b[0m\u001b[1;34m'Boat name'\u001b[0m\u001b[1;33m,\u001b[0m\u001b[1;34m'Handicap'\u001b[0m\u001b[1;33m,\u001b[0m\u001b[1;34m'Div'\u001b[0m\u001b[1;33m]\u001b[0m\u001b[1;33m)\u001b[0m\u001b[1;33m:\u001b[0m\u001b[1;33m\u001b[0m\u001b[0m\n\u001b[0;32m      7\u001b[0m         \u001b[0mdf_s\u001b[0m \u001b[1;33m=\u001b[0m \u001b[0mdf\u001b[0m\u001b[1;33m.\u001b[0m\u001b[0mdropna\u001b[0m\u001b[1;33m(\u001b[0m\u001b[0msubset\u001b[0m\u001b[1;33m=\u001b[0m\u001b[1;33m[\u001b[0m\u001b[1;34m'newTCF'\u001b[0m\u001b[1;33m,\u001b[0m\u001b[1;34m'TCFst'\u001b[0m\u001b[1;33m,\u001b[0m\u001b[1;34m'TCFclmp'\u001b[0m\u001b[1;33m]\u001b[0m\u001b[1;33m)\u001b[0m\u001b[1;33m.\u001b[0m\u001b[0mtail\u001b[0m\u001b[1;33m(\u001b[0m\u001b[1;36m5\u001b[0m\u001b[1;33m)\u001b[0m\u001b[1;33m\u001b[0m\u001b[0m\n\u001b[1;32m----> 8\u001b[1;33m         \u001b[0mdf_s\u001b[0m\u001b[1;33m[\u001b[0m\u001b[1;34m'Count'\u001b[0m\u001b[1;33m]\u001b[0m\u001b[1;33m=\u001b[0m \u001b[0mdf_s\u001b[0m\u001b[1;33m.\u001b[0m\u001b[0mreset_index\u001b[0m\u001b[1;33m(\u001b[0m\u001b[1;33m)\u001b[0m\u001b[1;33m.\u001b[0m\u001b[0mindex\u001b[0m \u001b[1;33m-\u001b[0m \u001b[0mlen\u001b[0m\u001b[1;33m(\u001b[0m\u001b[0mdf_s\u001b[0m\u001b[1;33m)\u001b[0m\u001b[1;33m\u001b[0m\u001b[0m\n\u001b[0m\u001b[0;32m      9\u001b[0m         \u001b[0mdf_s\u001b[0m \u001b[1;33m=\u001b[0m \u001b[0mdf_s\u001b[0m\u001b[1;33m[\u001b[0m\u001b[1;33m[\u001b[0m\u001b[1;34m'Boat name'\u001b[0m\u001b[1;33m,\u001b[0m\u001b[1;34m'Handicap'\u001b[0m\u001b[1;33m,\u001b[0m\u001b[1;34m'Div'\u001b[0m\u001b[1;33m,\u001b[0m\u001b[1;34m'Count'\u001b[0m\u001b[1;33m,\u001b[0m\u001b[1;34m'Date'\u001b[0m\u001b[1;33m,\u001b[0m\u001b[1;34m'TCFst'\u001b[0m\u001b[1;33m,\u001b[0m\u001b[1;34m'TCFclmp'\u001b[0m\u001b[1;33m,\u001b[0m\u001b[1;34m'newTCF'\u001b[0m\u001b[1;33m]\u001b[0m\u001b[1;33m]\u001b[0m\u001b[1;33m\u001b[0m\u001b[0m\n\u001b[0;32m     10\u001b[0m         \u001b[0mdf_new\u001b[0m\u001b[1;33m=\u001b[0m\u001b[0mdf_new\u001b[0m\u001b[1;33m.\u001b[0m\u001b[0mappend\u001b[0m\u001b[1;33m(\u001b[0m\u001b[0mdf_s\u001b[0m\u001b[1;33m)\u001b[0m\u001b[1;33m\u001b[0m\u001b[0m\n",
        "\u001b[1;32mC:\\Python27\\lib\\site-packages\\pandas-0.14.1-py2.7-win-amd64.egg\\pandas\\core\\index.pyc\u001b[0m in \u001b[0;36m__sub__\u001b[1;34m(self, other)\u001b[0m\n\u001b[0;32m    959\u001b[0m \u001b[1;33m\u001b[0m\u001b[0m\n\u001b[0;32m    960\u001b[0m     \u001b[1;32mdef\u001b[0m \u001b[0m__sub__\u001b[0m\u001b[1;33m(\u001b[0m\u001b[0mself\u001b[0m\u001b[1;33m,\u001b[0m \u001b[0mother\u001b[0m\u001b[1;33m)\u001b[0m\u001b[1;33m:\u001b[0m\u001b[1;33m\u001b[0m\u001b[0m\n\u001b[1;32m--> 961\u001b[1;33m         \u001b[1;32mreturn\u001b[0m \u001b[0mself\u001b[0m\u001b[1;33m.\u001b[0m\u001b[0mdiff\u001b[0m\u001b[1;33m(\u001b[0m\u001b[0mother\u001b[0m\u001b[1;33m)\u001b[0m\u001b[1;33m\u001b[0m\u001b[0m\n\u001b[0m\u001b[0;32m    962\u001b[0m \u001b[1;33m\u001b[0m\u001b[0m\n\u001b[0;32m    963\u001b[0m     \u001b[1;32mdef\u001b[0m \u001b[0m__and__\u001b[0m\u001b[1;33m(\u001b[0m\u001b[0mself\u001b[0m\u001b[1;33m,\u001b[0m \u001b[0mother\u001b[0m\u001b[1;33m)\u001b[0m\u001b[1;33m:\u001b[0m\u001b[1;33m\u001b[0m\u001b[0m\n",
        "\u001b[1;32mC:\\Python27\\lib\\site-packages\\pandas-0.14.1-py2.7-win-amd64.egg\\pandas\\core\\index.pyc\u001b[0m in \u001b[0;36mdiff\u001b[1;34m(self, other)\u001b[0m\n\u001b[0;32m   1112\u001b[0m \u001b[1;33m\u001b[0m\u001b[0m\n\u001b[0;32m   1113\u001b[0m         \u001b[1;32mif\u001b[0m \u001b[1;32mnot\u001b[0m \u001b[0mhasattr\u001b[0m\u001b[1;33m(\u001b[0m\u001b[0mother\u001b[0m\u001b[1;33m,\u001b[0m \u001b[1;34m'__iter__'\u001b[0m\u001b[1;33m)\u001b[0m\u001b[1;33m:\u001b[0m\u001b[1;33m\u001b[0m\u001b[0m\n\u001b[1;32m-> 1114\u001b[1;33m             \u001b[1;32mraise\u001b[0m \u001b[0mTypeError\u001b[0m\u001b[1;33m(\u001b[0m\u001b[1;34m'Input must be iterable!'\u001b[0m\u001b[1;33m)\u001b[0m\u001b[1;33m\u001b[0m\u001b[0m\n\u001b[0m\u001b[0;32m   1115\u001b[0m \u001b[1;33m\u001b[0m\u001b[0m\n\u001b[0;32m   1116\u001b[0m         \u001b[1;32mif\u001b[0m \u001b[0mself\u001b[0m\u001b[1;33m.\u001b[0m\u001b[0mequals\u001b[0m\u001b[1;33m(\u001b[0m\u001b[0mother\u001b[0m\u001b[1;33m)\u001b[0m\u001b[1;33m:\u001b[0m\u001b[1;33m\u001b[0m\u001b[0m\n",
        "\u001b[1;31mTypeError\u001b[0m: Input must be iterable!"
       ]
      }
     ],
     "prompt_number": 4
    },
    {
     "cell_type": "code",
     "collapsed": false,
     "input": [],
     "language": "python",
     "metadata": {},
     "outputs": []
    }
   ],
   "metadata": {}
  }
 ]
}